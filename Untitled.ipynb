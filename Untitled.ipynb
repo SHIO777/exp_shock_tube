{
 "cells": [
  {
   "cell_type": "code",
   "execution_count": 23,
   "metadata": {},
   "outputs": [],
   "source": [
    "import pandas as pd\n",
    "import matplotlib.pyplot as plt"
   ]
  },
  {
   "cell_type": "code",
   "execution_count": 11,
   "metadata": {},
   "outputs": [
    {
     "data": {
      "text/plain": [
       "['10-1_1.txt',\n",
       " '10-1_2.txt',\n",
       " '10-2_1.txt',\n",
       " '10-2_2.txt',\n",
       " '20-1_1.txt',\n",
       " '20-1_2.txt',\n",
       " '20-2_1.txt',\n",
       " '20-2_2.txt',\n",
       " '30-1_1.txt',\n",
       " '30-1_2.txt',\n",
       " '30-2_1.txt',\n",
       " '30-2_2.txt']"
      ]
     },
     "execution_count": 11,
     "metadata": {},
     "output_type": "execute_result"
    }
   ],
   "source": [
    "import glob\n",
    "files = sorted(glob.glob(\"*.txt\"))\n",
    "files"
   ]
  },
  {
   "cell_type": "code",
   "execution_count": 103,
   "metadata": {},
   "outputs": [
    {
     "data": {
      "text/plain": [
       "'30-2'"
      ]
     },
     "execution_count": 103,
     "metadata": {},
     "output_type": "execute_result"
    }
   ],
   "source": [
    "files[2*i].split(\"_\")[0]"
   ]
  },
  {
   "cell_type": "code",
   "execution_count": 91,
   "metadata": {},
   "outputs": [
    {
     "data": {
      "text/plain": [
       "[0.22399678796906125,\n",
       " 0.22947362170050958,\n",
       " 0.3548706202087212,\n",
       " 0.3545426214204009,\n",
       " 0.38344661904794053,\n",
       " 0.41124495293510765]"
      ]
     },
     "execution_count": 91,
     "metadata": {},
     "output_type": "execute_result"
    }
   ],
   "source": [
    "result = []\n",
    "ii = int(len(files)/2)\n",
    "for i in range(ii):\n",
    "    df1 = pd.read_csv(files[2*i])\n",
    "    df2 = pd.read_csv(files[2*i+1])\n",
    "    df2.columns = [\"Time\", \"Ampl2\"]\n",
    "    df = pd.merge(df1, df2)\n",
    "    df\n",
    "    low = df[(df[\"Time\"]<=-2.5e-5)&(df[\"Time\"]>=-1e-4)][\"Ampl\"].mean()\n",
    "    high = df[(df[\"Time\"]>=2.5e-5)&(df[\"Time\"]<=1.0e-4)][\"Ampl\"].mean()\n",
    "    delta_p = high - low\n",
    "    result.append(delta_p)\n",
    "result"
   ]
  },
  {
   "cell_type": "code",
   "execution_count": 104,
   "metadata": {},
   "outputs": [],
   "source": [
    "# ファイル出力\n",
    "for i in range(ii):\n",
    "    df1 = pd.read_csv(files[2*i])\n",
    "    df2 = pd.read_csv(files[2*i+1])\n",
    "    df2.columns = [\"Time\", \"Ampl2\"]\n",
    "    df = pd.merge(df1, df2)\n",
    "    df_output = df[df[\"Time\"]<=2.5e-5]\n",
    "    output_name = files[2*i].split(\"_\")[0]\n",
    "    df_output.to_excel(\"{}.xlsx\".format(output_name), index=False)\n",
    "\n",
    "# df_output = df[df[\"Time\"]<=2.5e-5]\n",
    "# df_output.to_excel(\"output.xlsx\", index=False)"
   ]
  },
  {
   "cell_type": "code",
   "execution_count": 97,
   "metadata": {},
   "outputs": [
    {
     "data": {
      "text/html": [
       "<div>\n",
       "<style scoped>\n",
       "    .dataframe tbody tr th:only-of-type {\n",
       "        vertical-align: middle;\n",
       "    }\n",
       "\n",
       "    .dataframe tbody tr th {\n",
       "        vertical-align: top;\n",
       "    }\n",
       "\n",
       "    .dataframe thead th {\n",
       "        text-align: right;\n",
       "    }\n",
       "</style>\n",
       "<table border=\"1\" class=\"dataframe\">\n",
       "  <thead>\n",
       "    <tr style=\"text-align: right;\">\n",
       "      <th></th>\n",
       "      <th>Time</th>\n",
       "      <th>Ampl</th>\n",
       "      <th>Ampl2</th>\n",
       "    </tr>\n",
       "  </thead>\n",
       "  <tbody>\n",
       "    <tr>\n",
       "      <th>0</th>\n",
       "      <td>-0.0006</td>\n",
       "      <td>-0.001251</td>\n",
       "      <td>0.00125</td>\n",
       "    </tr>\n",
       "    <tr>\n",
       "      <th>1</th>\n",
       "      <td>-0.0006</td>\n",
       "      <td>-0.001251</td>\n",
       "      <td>0.00125</td>\n",
       "    </tr>\n",
       "    <tr>\n",
       "      <th>2</th>\n",
       "      <td>-0.0006</td>\n",
       "      <td>-0.001251</td>\n",
       "      <td>-0.00500</td>\n",
       "    </tr>\n",
       "    <tr>\n",
       "      <th>3</th>\n",
       "      <td>-0.0006</td>\n",
       "      <td>-0.007501</td>\n",
       "      <td>-0.01125</td>\n",
       "    </tr>\n",
       "    <tr>\n",
       "      <th>4</th>\n",
       "      <td>-0.0006</td>\n",
       "      <td>-0.007501</td>\n",
       "      <td>-0.01125</td>\n",
       "    </tr>\n",
       "    <tr>\n",
       "      <th>...</th>\n",
       "      <td>...</td>\n",
       "      <td>...</td>\n",
       "      <td>...</td>\n",
       "    </tr>\n",
       "    <tr>\n",
       "      <th>999997</th>\n",
       "      <td>0.0014</td>\n",
       "      <td>0.405000</td>\n",
       "      <td>0.49500</td>\n",
       "    </tr>\n",
       "    <tr>\n",
       "      <th>999998</th>\n",
       "      <td>0.0014</td>\n",
       "      <td>0.405000</td>\n",
       "      <td>0.48875</td>\n",
       "    </tr>\n",
       "    <tr>\n",
       "      <th>999999</th>\n",
       "      <td>0.0014</td>\n",
       "      <td>0.411250</td>\n",
       "      <td>0.49500</td>\n",
       "    </tr>\n",
       "    <tr>\n",
       "      <th>1000000</th>\n",
       "      <td>0.0014</td>\n",
       "      <td>0.398750</td>\n",
       "      <td>0.48875</td>\n",
       "    </tr>\n",
       "    <tr>\n",
       "      <th>1000001</th>\n",
       "      <td>0.0014</td>\n",
       "      <td>0.405000</td>\n",
       "      <td>0.48250</td>\n",
       "    </tr>\n",
       "  </tbody>\n",
       "</table>\n",
       "<p>1000002 rows × 3 columns</p>\n",
       "</div>"
      ],
      "text/plain": [
       "           Time      Ampl    Ampl2\n",
       "0       -0.0006 -0.001251  0.00125\n",
       "1       -0.0006 -0.001251  0.00125\n",
       "2       -0.0006 -0.001251 -0.00500\n",
       "3       -0.0006 -0.007501 -0.01125\n",
       "4       -0.0006 -0.007501 -0.01125\n",
       "...         ...       ...      ...\n",
       "999997   0.0014  0.405000  0.49500\n",
       "999998   0.0014  0.405000  0.48875\n",
       "999999   0.0014  0.411250  0.49500\n",
       "1000000  0.0014  0.398750  0.48875\n",
       "1000001  0.0014  0.405000  0.48250\n",
       "\n",
       "[1000002 rows x 3 columns]"
      ]
     },
     "execution_count": 97,
     "metadata": {},
     "output_type": "execute_result"
    }
   ],
   "source": [
    "i = 5\n",
    "df1 = pd.read_csv(files[2*i])\n",
    "df2 = pd.read_csv(files[2*i+1])\n",
    "df2.columns = [\"Time\", \"Ampl2\"]\n",
    "df = pd.merge(df1, df2)\n",
    "df"
   ]
  },
  {
   "cell_type": "code",
   "execution_count": 100,
   "metadata": {},
   "outputs": [
    {
     "data": {
      "text/plain": [
       "<matplotlib.lines.Line2D at 0x7f9748df4a00>"
      ]
     },
     "execution_count": 100,
     "metadata": {},
     "output_type": "execute_result"
    },
    {
     "data": {
      "image/png": "[encoded data removed]",
      "text/plain": [
       "<Figure size 1440x504 with 1 Axes>"
      ]
     },
     "metadata": {
      "needs_background": "light"
     },
     "output_type": "display_data"
    }
   ],
   "source": [
    "%matplotlib inline\n",
    "fig, ax = plt.subplots(figsize=(20, 7))\n",
    "ax.plot(df[\"Time\"], df[\"Ampl\"])\n",
    "# ax.scatter(df[\"Time\"], df[\"Ampl2\"])\n",
    "ax.plot(df[\"Time\"], df[\"Ampl2\"])\n",
    "# ax.set_xlim(-2.5e-5, 2.5e-4)\n",
    "plt.axvline(-1.0e-4, color=\"k\")\n",
    "plt.axvline(-2.5e-5, color=\"k\")\n",
    "plt.axvline(1.0e-4, color=\"k\")\n",
    "plt.axvline(2.5e-5, color=\"k\")\n",
    "\n",
    "# ax.set_xlim(-0.0001, 0.0001)\n",
    "# ax.set_xlim(2.5e-4, 1.0e-5)\n",
    "# ax.set_ylim(-0.1, 0.4)\n"
   ]
  },
  {
   "cell_type": "code",
   "execution_count": 82,
   "metadata": {},
   "outputs": [
    {
     "data": {
      "text/plain": [
       "0.41124495293510765"
      ]
     },
     "execution_count": 82,
     "metadata": {},
     "output_type": "execute_result"
    }
   ],
   "source": [
    "low = df[(df[\"Time\"]<=-2.5e-5)&(df[\"Time\"]>=-1e-4)][\"Ampl\"].mean()\n",
    "high = df[(df[\"Time\"]>=2.5e-5)&(df[\"Time\"]<=1.0e-4)][\"Ampl\"].mean()\n",
    "delta_p = high - low\n",
    "delta_p"
   ]
  },
  {
   "cell_type": "code",
   "execution_count": 102,
   "metadata": {},
   "outputs": [],
   "source": []
  },
  {
   "cell_type": "code",
   "execution_count": null,
   "metadata": {},
   "outputs": [],
   "source": []
  }
 ],
 "metadata": {
  "interpreter": {
   "hash": "a3024ea4fbb37629d53b1d21f85ce22d9a14cfcb7dfd1ea0e939fa987d4797b8"
  },
  "kernelspec": {
   "display_name": "Python 3.8.3 ('base')",
   "language": "python",
   "name": "python3"
  },
  "language_info": {
   "codemirror_mode": {
    "name": "ipython",
    "version": 3
   },
   "file_extension": ".py",
   "mimetype": "text/x-python",
   "name": "python",
   "nbconvert_exporter": "python",
   "pygments_lexer": "ipython3",
   "version": "3.8.3"
  }
 },
 "nbformat": 4,
 "nbformat_minor": 4
}
